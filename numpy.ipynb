{
 "cells": [
  {
   "cell_type": "markdown",
   "id": "3ef11281-b80f-4c22-9b34-57c80c6dd5ab",
   "metadata": {
    "jp-MarkdownHeadingCollapsed": true
   },
   "source": [
    "# Introduction to NumPy\n",
    "\n",
    "NumPy (Numerical Python) is a powerful, open-source library used for numerical and scientific computing in Python. It provides support for large multidimensional arrays and matrices, along with a collection of mathematical functions to operate on these arrays. NumPy is the foundational package for many scientific computing libraries in Python, including pandas, SciPy, and scikit-learn.\n",
    "\n",
    "---"
   ]
  },
  {
   "cell_type": "markdown",
   "id": "14ee5369-049c-4050-8bcb-b2ed107c5cdd",
   "metadata": {
    "jp-MarkdownHeadingCollapsed": true
   },
   "source": [
    "# Installing NumPy\n",
    "\n",
    "```python\n",
    "!pip install numpy --upgrade\n",
    "\n",
    "```\n",
    "---"
   ]
  },
  {
   "cell_type": "markdown",
   "id": "e83de997-73bd-4001-81da-6fd905ef86dc",
   "metadata": {},
   "source": [
    "# How to import NumPy\n",
    "\n",
    "```python\n",
    "import numpy as np\n",
    "```\n",
    "---"
   ]
  },
  {
   "cell_type": "markdown",
   "id": "9fc0b097-1e4b-4db0-a1bb-c9e717d5652d",
   "metadata": {
    "jp-MarkdownHeadingCollapsed": true
   },
   "source": [
    "# Python list VS NumPy array\n",
    "\n",
    "While Python lists are flexible and can hold different types of data, NumPy arrays are more efficient for numerical operations. Here are some key differences:\n",
    "\n",
    "1. Performance: NumPy arrays are faster and more memory efficient than Python lists because they are implemented in C and use contiguous memory blocks.\n",
    "2. Functionality: NumPy provides a wide range of mathematical and statistical functions that operate on arrays, which are not available for Python lists.\n",
    "3. Type Consistency: NumPy arrays are homogeneous, meaning all elements have the same type, while Python lists can contain elements of different types.\n",
    "\n",
    "---"
   ]
  },
  {
   "cell_type": "markdown",
   "id": "2d929215-c853-4611-a242-7c298a32d924",
   "metadata": {},
   "source": [
    "# Creating NumPy Arrays\n",
    "\n",
    "There are several ways to create NumPy arrays. Here are a few common methods:"
   ]
  },
  {
   "cell_type": "markdown",
   "id": "04ff0ffa-9af2-4958-91ba-a2920b6bce42",
   "metadata": {},
   "source": [
    "## 1. Converting Python Sequence to NumPy Arrays"
   ]
  },
  {
   "cell_type": "code",
   "execution_count": null,
   "id": "6c609006-d120-4410-9d28-618bcf7a30d4",
   "metadata": {},
   "outputs": [],
   "source": [
    "a1D = np.array([1, 2, 3, 4]) # np.array() is a function not a method.\n",
    "a2D = np.array([[1, 2], [3, 5]])\n",
    "print(a2D)"
   ]
  },
  {
   "cell_type": "code",
   "execution_count": null,
   "id": "d67bdd2e-0084-4713-b7a4-d186fffd0c44",
   "metadata": {},
   "outputs": [],
   "source": [
    "a2 = np.array([1, 2, 3], dtype= np.int8)\n",
    "a2"
   ]
  },
  {
   "cell_type": "markdown",
   "id": "61c94598-8a9f-42e4-b128-7ac7a9e96e19",
   "metadata": {},
   "source": [
    "### Now, it might seem nothing much but if you don't do that, you can get unwanted results."
   ]
  },
  {
   "cell_type": "code",
   "execution_count": null,
   "id": "66cb64f2-133a-4368-848c-cae3aa66b506",
   "metadata": {},
   "outputs": [],
   "source": [
    "a3 = np.array([127, 128, 120], dtype=np.int8)\n",
    "a3"
   ]
  },
  {
   "cell_type": "markdown",
   "id": "e15f064a-b0a2-43b3-ac2b-1bc641d072f6",
   "metadata": {},
   "source": [
    "### An 8-bit signed integer represents integers from -128 to 127. Assigning the int8 array to integers outside of this range results in overflow."
   ]
  },
  {
   "cell_type": "code",
   "execution_count": null,
   "id": "3157cd37-1343-4242-ac61-a81b17c960b2",
   "metadata": {},
   "outputs": [],
   "source": [
    "a4 = np.array([2, 3, 4], dtype=np.uint32)\n",
    "\n",
    "b4 = np.array([5, 6, 7], dtype=np.uint32)\n",
    "\n",
    "c_unsigned32 = a4 - b4\n",
    "\n",
    "print('unsigned c:', c_unsigned32, c_unsigned32.dtype)\n",
    "# unsigned c: [4294967293 4294967293 4294967293] uint32\n",
    "\n",
    "# 2 - 5 = -3 mod 2^32 = 4294967293\n",
    "\n",
    "c_signed32 = a4 - b4.astype(np.int32)\n",
    "\n",
    "print('signed c:', c_signed32, c_signed32.dtype)\n",
    "# signed c: [-3 -3 -3] int64"
   ]
  },
  {
   "cell_type": "markdown",
   "id": "5007cdc3-8441-4a3d-9614-72a27bc2aac1",
   "metadata": {},
   "source": [
    "---\n",
    "## 2. Intrinsic NumPy array creation functions\n",
    "\n",
    "NumPy has over 40 built-in functions for creating arrays and these can be divided into roghly 3-categories:"
   ]
  },
  {
   "cell_type": "markdown",
   "id": "e0651ce5-f17b-4b88-ba15-fff17683c170",
   "metadata": {},
   "source": [
    "### 1D arrays"
   ]
  },
  {
   "cell_type": "markdown",
   "id": "351c9d9f-184d-43c7-be11-39ec22a41cb6",
   "metadata": {},
   "source": [
    "#### 1. numpy.arange()\n",
    " - numpy.arange creates arrays with regularly incrementing values.\n",
    " - It takes 3 inputs in total: start, stop and step."
   ]
  },
  {
   "cell_type": "code",
   "execution_count": null,
   "id": "f02fd98e-06b6-4c62-8293-19a730334075",
   "metadata": {},
   "outputs": [],
   "source": [
    "a5 = np.arange(10)\n",
    "b5 = np.arange(2, 10, dtype=float)\n",
    "c5 = np.arange(2, 3, 0.1)\n",
    "c5"
   ]
  },
  {
   "cell_type": "markdown",
   "id": "e3a22487-6cd0-47a0-9f52-98a9cd87fc2c",
   "metadata": {},
   "source": [
    "#### 2. numpy.linspace()\n",
    "\n",
    "- It will create arrays with a specified number of elements, and spaced equally between the specified beginning and end values.\n",
    "- The advantage of this creation function is that you guarantee the number of elements and the starting and end point."
   ]
  },
  {
   "cell_type": "code",
   "execution_count": null,
   "id": "cf0bf5c6-46c3-458d-a390-692a62cfd0b1",
   "metadata": {},
   "outputs": [],
   "source": [
    "np.linspace(1., 4., 6)"
   ]
  },
  {
   "cell_type": "markdown",
   "id": "2d90b64f-dba2-46a7-a430-95b6dbef9729",
   "metadata": {},
   "source": [
    "### 2D arrays"
   ]
  },
  {
   "cell_type": "markdown",
   "id": "97533ed5-6fb8-4a19-9434-fa1ce8a95e34",
   "metadata": {},
   "source": [
    "#### 1. numpy.eye()\n",
    "\n",
    "- In this function, the elements where i=j (row index and column index are equal) are 1 , and the rest are 0."
   ]
  },
  {
   "cell_type": "code",
   "execution_count": null,
   "id": "3d90b16d-b76f-46ec-86b7-707049825439",
   "metadata": {},
   "outputs": [],
   "source": [
    "a6 = np.eye(3) # no of rows and columns, 1st rows and then columns\n",
    "b6 = np.eye(3, 5)\n",
    "b6"
   ]
  },
  {
   "cell_type": "markdown",
   "id": "9e334e4f-9aea-45ac-b9b6-7e085c7a79a1",
   "metadata": {},
   "source": [
    "#### 2. numpy.diag()\n",
    "\n",
    "- It can define either a square 2D array with given values along the diagonal or if given a 2D array returns a 1D array that is only the diagonal elements.\n",
    "- The second input in the function, called k, specifies which diagonal to work with.\n",
    "  - k=0 (default): Main diagonal\n",
    "  - k>0: Diagonal above the main diagonal\n",
    "  - k<0: Diagonal below the main diagonal"
   ]
  },
  {
   "cell_type": "code",
   "execution_count": null,
   "id": "17d0d0f8-d320-4964-916b-cd8057dad63d",
   "metadata": {},
   "outputs": [],
   "source": [
    "a7 = np.diag([1, 2, 3])\n",
    "b7 = np.diag([[1, 2], [3, 4]])\n",
    "c7 = np.diag([1, 2, 3], 1)\n",
    "c7"
   ]
  },
  {
   "cell_type": "markdown",
   "id": "c4326be5-0d15-42a6-a8da-4b0aa30136b7",
   "metadata": {},
   "source": [
    "### ndarrays"
   ]
  },
  {
   "cell_type": "markdown",
   "id": "44ffe6d2-552c-4662-9989-8607de9cb668",
   "metadata": {},
   "source": [
    "#### 1. numpy.zeros\n",
    "\n",
    "- It will create an array filled with 0 values with the specified shape. The default dtype is float64"
   ]
  },
  {
   "cell_type": "code",
   "execution_count": null,
   "id": "b5299427-b0fc-410b-b8f2-a79d35f7ec3b",
   "metadata": {},
   "outputs": [],
   "source": [
    "a8 = np.zeros((2, 3))\n",
    "b8 = np.zeros([2, 2])\n",
    "b8"
   ]
  },
  {
   "cell_type": "markdown",
   "id": "53a6304e-bbba-4599-a879-31e87d203e99",
   "metadata": {},
   "source": [
    "#### 2. numpy.ones\n",
    "\n",
    "- It will create an array filled with 1 values. It is identical to zeros in all other respects "
   ]
  },
  {
   "cell_type": "code",
   "execution_count": null,
   "id": "722d4b47-5714-4c4b-b9d9-ab1e38940699",
   "metadata": {},
   "outputs": [],
   "source": [
    "a8 = np.ones((2, 3))\n",
    "b8 = np.ones([2, 2])\n",
    "b8"
   ]
  },
  {
   "cell_type": "markdown",
   "id": "86ca0050-135b-46d3-a4e6-de6bb2623c13",
   "metadata": {},
   "source": [
    "---\n",
    "## 3. Replicating, joining, or mutating existing arrays\n",
    "\n",
    "Once you have created arrays, you can replicate, join, or mutate those existing arrays to create new arrays."
   ]
  },
  {
   "cell_type": "markdown",
   "id": "d0e5484e-5e90-450d-b409-1528d2d682e8",
   "metadata": {},
   "source": [
    "### Replicating Arrays\n",
    "\n",
    "It involves creating copies or repeating elements of an array"
   ]
  },
  {
   "cell_type": "markdown",
   "id": "ae6e7333-258a-4a85-b48c-ad55a93afcbd",
   "metadata": {},
   "source": [
    "#### 1. numpy.copy()\n",
    "\n",
    "- This creates a new array that is a copy of original array."
   ]
  },
  {
   "cell_type": "code",
   "execution_count": null,
   "id": "c6d2d581-5ab6-4d85-9d48-791fbf24396f",
   "metadata": {},
   "outputs": [],
   "source": [
    "a10 = np.array([1, 2, 3])\n",
    "b10 = np.copy(a10)\n",
    "b10"
   ]
  },
  {
   "cell_type": "markdown",
   "id": "caa20154-14ec-4f65-9821-57280efcf51c",
   "metadata": {},
   "source": [
    "#### 2. numpy.tile()\n",
    "\n",
    "- This repeats the elements of the array multiple times."
   ]
  },
  {
   "cell_type": "code",
   "execution_count": null,
   "id": "8d3dbdff-1a13-4eea-9a3d-a6ca9024180b",
   "metadata": {},
   "outputs": [],
   "source": [
    "a11 = np.array([8, 7, 9])\n",
    "b11 = np.tile(a11, 2)\n",
    "b11"
   ]
  },
  {
   "cell_type": "markdown",
   "id": "fe0bcd5e-2ea8-4bdc-9ff0-e13e66ee01ef",
   "metadata": {},
   "source": [
    "#### 3. numpy.repeat()\n",
    "\n",
    "- Does the same job as `tile`, only the order of elements is different."
   ]
  },
  {
   "cell_type": "code",
   "execution_count": null,
   "id": "ca0776d9-34b9-4ae1-8b87-4ed14c4331fd",
   "metadata": {},
   "outputs": [],
   "source": [
    "a12 = np.array([8, 7, 9])\n",
    "b12 = np.repeat(a11, 2)\n",
    "b12"
   ]
  },
  {
   "cell_type": "markdown",
   "id": "f9acd1c9-5ba7-4ce5-87ea-92c0d7a1dd6c",
   "metadata": {},
   "source": [
    "### Joining Arrays\n",
    "You can also create arrays by joining multiple arrays."
   ]
  },
  {
   "cell_type": "markdown",
   "id": "66ec8205-2c46-468e-8aaf-355eb483e6aa",
   "metadata": {},
   "source": [
    "#### 1. numpy.concatenate()\n",
    "\n",
    "- It is a more flexible and can concatenate along any specified axis.\n",
    "- Axis 0 - row, Axis 1 - column"
   ]
  },
  {
   "cell_type": "code",
   "execution_count": null,
   "id": "cfd00da3-ebe8-4c57-abfe-aef26f872b52",
   "metadata": {},
   "outputs": [],
   "source": [
    "a13 = np.array([8, 7, 9])\n",
    "b13 = np.array([1, 2, 3])\n",
    "c13 = np.concatenate((b13, a13)) # for axis, we need 2D array\n",
    "c13"
   ]
  },
  {
   "cell_type": "markdown",
   "id": "5937d19d-dca8-40f7-9046-d3306a29947b",
   "metadata": {},
   "source": [
    "#### 2. numpy.hstack()\n",
    "\n",
    "- It is used to stack arrays horizontally (column-wise).\n",
    "- It is specifically for horizontal stacking (along the second axis for 2D arrays)."
   ]
  },
  {
   "cell_type": "code",
   "execution_count": null,
   "id": "d5ef189f-b13b-49a9-917e-736fd4b0c85b",
   "metadata": {},
   "outputs": [],
   "source": [
    "a14 = np.array([1, 2, 3])\n",
    "b14 = np.array([4, 5, 6])\n",
    "c14 = np.hstack((a14, b14))\n",
    "c14"
   ]
  },
  {
   "cell_type": "markdown",
   "id": "3f4279d1-5c23-47cd-8623-b2a3ec5ead2a",
   "metadata": {},
   "source": [
    "#### 3. numpy.vstack()\n",
    "\n",
    "- It is used to stack arrays vertically (row-wise)."
   ]
  },
  {
   "cell_type": "code",
   "execution_count": null,
   "id": "a201af5f-b137-4417-a0d3-28f447cae086",
   "metadata": {},
   "outputs": [],
   "source": [
    "a15 = np.array([1, 2, 3])\n",
    "b15 = np.array([4, 5, 6])\n",
    "c15 = np.vstack((a15, b15))\n",
    "c15"
   ]
  },
  {
   "cell_type": "markdown",
   "id": "b24a8df9-bd84-4e61-9421-fbae4d9d97fb",
   "metadata": {},
   "source": [
    "### Mutating Arrays\n",
    "It involves modifying the content of existing arrays."
   ]
  },
  {
   "cell_type": "code",
   "execution_count": null,
   "id": "5ead3474-019e-43c9-8e2c-fda020c9b655",
   "metadata": {},
   "outputs": [],
   "source": [
    "a16 = np.array([1, 2, 3])\n",
    "a16[0] = 10 #Changes the first element of a16 to 10, resulting in [10, 2, 3].\n",
    "a16"
   ]
  },
  {
   "cell_type": "markdown",
   "id": "f9e46e70-6054-4b55-9dd8-0be33d89d20f",
   "metadata": {},
   "source": [
    "---\n",
    "# Indexing\n",
    "\n",
    "In NumPy, ndarray objects can be indexed using `x[obj]` syntax, where `x` is the array and `obj` is the selection."
   ]
  },
  {
   "cell_type": "markdown",
   "id": "a227fce7-e16e-47e2-aa5e-7cedf6334b8c",
   "metadata": {},
   "source": [
    "## 1. Basic Indexing\n",
    "\n",
    "- Single Element Indexing:\n",
    "\n",
    "   - Works like standard Python sequences with 0-based indexing.\n",
    "   - Supports negative indices for indexing from the end.\n",
    "   - In multidimensional arrays, indices can be separated by commas.\n",
    "     <br><br>\n",
    "- Subdimensional Arrays:\n",
    "  - Indexing with fewer indices than dimensions returns a subdimensional array."
   ]
  },
  {
   "cell_type": "code",
   "execution_count": null,
   "id": "8e62b461-29bf-47f8-80e7-06b606565f43",
   "metadata": {},
   "outputs": [],
   "source": [
    "a18 = np.arange(10)\n",
    "a18[2]  # Output: 2\n",
    "a18[-2]  # Output: 8"
   ]
  },
  {
   "cell_type": "code",
   "execution_count": null,
   "id": "20e08e4d-f17f-4500-b4c0-c1aba352dabd",
   "metadata": {},
   "outputs": [],
   "source": [
    "a19 = np.array([[1, 2, 3],[4, 5, 6]])\n",
    "a19[0, 1]\n",
    "a19[0]"
   ]
  },
  {
   "cell_type": "markdown",
   "id": "89e01b37-f784-4c1c-a04a-c1789032901e",
   "metadata": {},
   "source": [
    "## 2. Slicing and Striding\n",
    "\n",
    "- Slicing is used to access a subset of elements from an array.\n",
    "- Slices are defined by the `start:stop:step` notation.\n",
    "- Slicing always returns views, not copies."
   ]
  },
  {
   "cell_type": "code",
   "execution_count": null,
   "id": "f16e2b8d-53b3-4669-947e-9d4678e13116",
   "metadata": {},
   "outputs": [],
   "source": [
    "a20 = np.array([0, 1, 2, 3, 4, 5, 6, 7, 8, 9])\n",
    "a20[1:7:2]  # Output: array([1, 3, 5])\n",
    "a20[:10:]  # Output: array([8, 9])\n",
    "\n",
    "a21 = np.array([[1, 2, 3], [4, 5, 6], [7, 8, 9]])\n",
    "a21[::2, :2:]\n",
    "a20[::-1] # select all in reverse direction"
   ]
  },
  {
   "cell_type": "markdown",
   "id": "aca4d0ee-3f43-4a59-9fc0-10a73a802761",
   "metadata": {},
   "source": [
    "## 3. Advanced Indexing\n",
    "\n",
    "- You can use arrays of integers or boolean values to select specific elements.\n",
    "- You can use multiple arrays to index into a multidimensional array.\n",
    "- Returns a copy of the data.\n"
   ]
  },
  {
   "cell_type": "code",
   "execution_count": null,
   "id": "7ff2c815-b76a-40ad-8b10-0003bba9a919",
   "metadata": {},
   "outputs": [],
   "source": [
    "a22 = np.array([10, 20, 30, 40])\n",
    "idx = np.array([0, 2])\n",
    "a22[idx] # Output: [10 30]\n",
    "\n",
    "bool_idx = [True, False, True, False]\n",
    "bool_idx = a22 > 20\n",
    "a22[bool_idx]\n",
    "\n",
    "a23 = np.array([[1, 2], [3, 4], [5, 6]])\n",
    "row_idx = np.array([0, 2])\n",
    "col_idx = np.array([1, 0])\n",
    "a23[row_idx, col_idx]"
   ]
  },
  {
   "cell_type": "markdown",
   "id": "d5957630-9650-479e-8679-2922c1cb7d04",
   "metadata": {},
   "source": [
    "---\n",
    "# Copies and Views\n",
    "\n",
    "A NumPy array consists of two main parts:\n",
    "- Data buffer: This contains the actual data elements stored in contiguous memory.\n",
    "- Metadata: This includes information about the data such as the data type, shape, strides, etc., which helps in manipulating the array.\n",
    "\n",
    "## View\n",
    "- Changes made to the data in the view will be reflected in the original array and vice versa.\n",
    "- Views are created to enhance performance by avoiding unnecessary data duplication.\n"
   ]
  },
  {
   "cell_type": "code",
   "execution_count": null,
   "id": "c8f276d8-785a-4e01-802b-39a10b7da35a",
   "metadata": {},
   "outputs": [],
   "source": [
    "# slicing\n",
    "\n",
    "a24 = np.arange(10)\n",
    "b24 = a24[2:5] # b24 is a view of a24\n",
    "b24[0] = 10\n",
    "a24"
   ]
  },
  {
   "cell_type": "markdown",
   "id": "388aa8ae-9d86-436d-ae15-6b8bde53069b",
   "metadata": {},
   "source": [
    "## Copy\n",
    "- Changes made to the data in the copy do not affect the original array and vice versa.\n",
    "- Copies are useful when you need to modify the data without altering the original array.\n",
    "- Creating a copy involves additional memory usage and computational overhead.\n"
   ]
  },
  {
   "cell_type": "code",
   "execution_count": null,
   "id": "44d50bd7-3a43-46a9-aded-d5371925ab04",
   "metadata": {},
   "outputs": [],
   "source": [
    "# Advanced Indexing\n",
    "\n",
    "a24 = np.arange(9).reshape((3, 3))\n",
    "b24 = a24[[0, 2]] # y is a copy of selected rows from x\n",
    "b24[0, 0] = 10\n",
    "print(a24,\"\\n\\n\", b24, \"\\n\")\n",
    "\n",
    "# Using np.copy\n",
    "\n",
    "c24 = np.arange(10)\n",
    "d24 = np.copy(c24)\n",
    "d24[0] = 99\n",
    "print(c24, \"\\n\\n\", d24)"
   ]
  },
  {
   "cell_type": "markdown",
   "id": "d4096707-02f4-4b99-8b44-19aa315ecbd0",
   "metadata": {},
   "source": [
    "## How to Check if an Array is a View or a Copy ?\n",
    "You can use the .base attribute of a NumPy array to determine if it is a view or a copy:\n",
    "- If the `.base` attribute is None, the array is a copy.\n",
    "- If the `.base` attribute points to another array, the array is a view."
   ]
  },
  {
   "cell_type": "code",
   "execution_count": null,
   "id": "b2aa9c25-8026-4648-963d-d807faa8508e",
   "metadata": {},
   "outputs": [],
   "source": [
    "a25 = np.arange(6)\n",
    "b25 = a25.reshape((2, 3))\n",
    "\n",
    "print(\"Is b25 a view?\", b25.base is a25)  # True because y is a view of x\n",
    "\n",
    "c25 = np.copy(a25)\n",
    "print(\"Is c25 a view?\", c25.base is a25)  # False because z is a copy of x\n"
   ]
  },
  {
   "cell_type": "markdown",
   "id": "3e5ce032-ef7a-4df9-8449-778602ccef6f",
   "metadata": {},
   "source": [
    "---\n",
    "# Broadcasting\n",
    "\n",
    "- It allows you to perform arithmetic operations on arrays of different shapes.\n",
    "- Broadcasting means expanding the smaller array's dimensions so that it matches the shape of the larger array without actually copying the data.\n",
    "\n",
    "#### Adding a Scalar to an Array\n",
    "\n",
    " - When you add a scalar to a NumPy array, the scalar is broadcasted to match the shape of the array:"
   ]
  },
  {
   "cell_type": "code",
   "execution_count": null,
   "id": "682d0a9e-ab39-40b0-a4e8-6a34951ca1c5",
   "metadata": {},
   "outputs": [],
   "source": [
    "l1 = [1, 2, 3]\n",
    "n1 = 3\n",
    "a26 = np.array(l1)\n",
    "\n",
    "c26 = a26 * n1\n",
    "\n",
    "l3 = [l1[i] * n1 for i in range(3)]\n",
    "c26"
   ]
  },
  {
   "cell_type": "markdown",
   "id": "d6466ee3-8799-4fe3-a9b6-edf6e8816ad1",
   "metadata": {},
   "source": [
    "#### Adding Arrays of Different Shapes\n",
    "- If you have a 2D array and a 1D array. NumPy will try to broadcast the smaller array (1D) to match the shape of the larger array (2D)."
   ]
  },
  {
   "cell_type": "code",
   "execution_count": null,
   "id": "ea240ed1-3bfc-4327-9a5d-7092ecb514b3",
   "metadata": {},
   "outputs": [],
   "source": [
    "a = np.array([[1, 2, 3], [4, 5, 6]]) # (2, 3)\n",
    "b = np.array([1, 2, 3]) #(3)\n",
    "\n",
    "result = a + b  # Broadcasting 'b' to match the shape of 'a'\n",
    "result   # Output: [[2, 4, 6], [5, 7, 9]]"
   ]
  },
  {
   "cell_type": "markdown",
   "id": "850b5ea2-e785-4379-8e2c-fb16db698c27",
   "metadata": {},
   "source": [
    "## General Broadcasting Rules\n",
    "\n",
    " 1. Align shapes from the right\n",
    " 2. Dimensions must be equal, or one of them must be 1"
   ]
  },
  {
   "cell_type": "code",
   "execution_count": null,
   "id": "d41fd1ca-9877-4437-b5ed-56c2a294b555",
   "metadata": {},
   "outputs": [],
   "source": [
    "shape1 = (2, 3, 4)\n",
    "shape2 = (24, 90, 1, 3, 4)\n",
    "\n",
    "# Create arrays with the specified shapes\n",
    "array1 = np.ones(shape1)\n",
    "array2 = np.ones(shape2)\n",
    "\n",
    "# Perform a broadcasting operation (e.g., addition)\n",
    "result = array1 + array2\n",
    "\n",
    "print(\"Shape of the result:\", result.shape)"
   ]
  },
  {
   "cell_type": "markdown",
   "id": "29ece2d3-e0b8-4c63-a514-35d4a174a6fb",
   "metadata": {},
   "source": [
    "---\n",
    "# Structured Arrays\n",
    "\n",
    "- Structured arrays in NumPy allow you to create arrays where each element can have a custom data type consisting of multiple fields.\n",
    "- You can create a structured array using `numpy.array()` with a `dtype` argument that specifies the fields and their data types."
   ]
  },
  {
   "cell_type": "code",
   "execution_count": null,
   "id": "1f200002-5286-4d0e-b84a-30c60b608a56",
   "metadata": {},
   "outputs": [],
   "source": [
    "# Define the data types for each field\n",
    "dtype = np.dtype([\n",
    "    ('name', 'U20'),   # Unicode string with max length 20 for name\n",
    "    ('age', np.int32), # 32-bit integer for age\n",
    "    ('weight', np.float64) # 64-bit float for weight\n",
    "])\n",
    "\n",
    "# Create a structured array with predefined data\n",
    "data = np.array([\n",
    "    ('Alice', 25, 65.2),\n",
    "    ('Bob', 30, 72.9),\n",
    "    ('Charlie', 35, 68.5)\n",
    "], dtype=dtype)\n",
    "\n",
    "data"
   ]
  },
  {
   "cell_type": "markdown",
   "id": "2fe30e1a-39a0-4875-b938-e94b401296ed",
   "metadata": {},
   "source": [
    "### Accessing Structured Array Elements\n",
    " - You can access elements and fields of a structured array using indexing and field names."
   ]
  },
  {
   "cell_type": "code",
   "execution_count": null,
   "id": "39157c77-866e-4612-a8cb-617b3d8f7c6e",
   "metadata": {},
   "outputs": [],
   "source": [
    "# Accessing elements and fields\n",
    "print(data[0])          # Output: ('Alice', 25, 65.2)\n",
    "\n",
    "# Accessing a specific field of a specific element\n",
    "print(data[1]['name'])  # Output: 'Bob'\n",
    "print(data[2]['weight']) # Output: 68.5"
   ]
  },
  {
   "cell_type": "markdown",
   "id": "f6ff2c43-d67c-4504-9e77-8a60b8435d7e",
   "metadata": {},
   "source": [
    "### Manipulating Structured Arrays\n",
    "\n",
    "- You can manipulate structured arrays similar to regular arrays, including slicing, iterating, and performing operations across fields."
   ]
  },
  {
   "cell_type": "code",
   "execution_count": null,
   "id": "cce41998-6d63-4fcb-a26e-4aeed1b9336d",
   "metadata": {},
   "outputs": [],
   "source": [
    "# Slicing and iterating over structured arrays\n",
    "print(data[:2])  # Output: [('Alice', 25, 65.2), ('Bob', 30, 72.9)]\n",
    "\n",
    "for person in data:\n",
    "    print(person['name'], person['age'])  # Iterates over each person's name and age\n",
    "\n",
    "# Performing operations\n",
    "average_age = np.mean(data['age'])\n",
    "print(f\"Average age: {average_age:.2f}\")\n",
    "\n",
    "# Sorting based on a field\n",
    "sorted_data = np.sort(data, order='age')\n",
    "print(sorted_data)\n"
   ]
  },
  {
   "cell_type": "markdown",
   "id": "668e3c64-a3fe-48ff-af49-7e6452d354d7",
   "metadata": {},
   "source": [
    "---\n",
    "# Use cases"
   ]
  },
  {
   "cell_type": "markdown",
   "id": "f5667db9-bd3a-423c-9404-293228eb0633",
   "metadata": {},
   "source": [
    "### Basic Arithmetic Operations\n",
    "\n",
    "- You can perform element-wise arithmetic operations on NumPy arrays, just as you would with scalar values."
   ]
  },
  {
   "cell_type": "code",
   "execution_count": null,
   "id": "95764365-72a9-4e87-ad0d-92c50504e4ab",
   "metadata": {},
   "outputs": [],
   "source": [
    "a29 = np.array([1, 2, 3])\n",
    "b29 = np.array([4, 5, 6])"
   ]
  },
  {
   "cell_type": "code",
   "execution_count": null,
   "id": "3b7e61f2-9d5f-49d2-ab8f-3d338f20d16b",
   "metadata": {},
   "outputs": [],
   "source": [
    "a29 + b29 # Element-wise, lessser no of element then broadcasting"
   ]
  },
  {
   "cell_type": "code",
   "execution_count": null,
   "id": "bc84048c-2341-474e-9737-a0fa6f21e094",
   "metadata": {},
   "outputs": [],
   "source": [
    "a29 - b29"
   ]
  },
  {
   "cell_type": "code",
   "execution_count": null,
   "id": "dba538bb-f59a-463b-9d52-a156544952f9",
   "metadata": {},
   "outputs": [],
   "source": [
    "a29 * b29"
   ]
  },
  {
   "cell_type": "code",
   "execution_count": null,
   "id": "821048a8-e372-4f76-8dc4-521b5a5b664c",
   "metadata": {},
   "outputs": [],
   "source": [
    "a29 / b29"
   ]
  },
  {
   "cell_type": "markdown",
   "id": "513d9875-1f90-4948-80c1-1327e89eb65a",
   "metadata": {},
   "source": [
    "### Universal Functions (ufuncs)\n",
    "\n",
    "- NumPy provides a set of functions that operate element-wise on arrays, called universal functions or ufuncs."
   ]
  },
  {
   "cell_type": "code",
   "execution_count": null,
   "id": "6ad786ae-3228-43ae-8dfc-e116ad058138",
   "metadata": {},
   "outputs": [],
   "source": [
    "# Element-wise square root\n",
    "np.sqrt(a29)"
   ]
  },
  {
   "cell_type": "code",
   "execution_count": null,
   "id": "e9394cb7-0a0d-4047-b595-92e1f17e8eb9",
   "metadata": {},
   "outputs": [],
   "source": [
    "# Element-wise exponential\n",
    "np.exp(a29)"
   ]
  },
  {
   "cell_type": "code",
   "execution_count": null,
   "id": "52cc53fb-c086-44fd-b804-d890f1eba36f",
   "metadata": {},
   "outputs": [],
   "source": [
    "# Element-wise natural logarithm\n",
    "np.log(a29)"
   ]
  },
  {
   "cell_type": "markdown",
   "id": "0a1ca997-c7ee-45df-b929-e08b72e5f999",
   "metadata": {},
   "source": [
    "### Aggregate Functions\n",
    "- NumPy also provides functions to perform various aggregate operations on arrays."
   ]
  },
  {
   "cell_type": "code",
   "execution_count": null,
   "id": "812bce5b-6ff6-422a-bb52-560fb2456f6c",
   "metadata": {},
   "outputs": [],
   "source": [
    "# Sum of all elements\n",
    "np.sum(a29)"
   ]
  },
  {
   "cell_type": "code",
   "execution_count": null,
   "id": "294a2229-ba1f-492e-ab1a-d6ecbdd766e9",
   "metadata": {},
   "outputs": [],
   "source": [
    "# Mean of all elements\n",
    "np.mean(a29)"
   ]
  },
  {
   "cell_type": "code",
   "execution_count": null,
   "id": "2b7de989-f5e8-407f-8e01-9314b8057f3b",
   "metadata": {},
   "outputs": [],
   "source": [
    "# Standard deviation of all elements\n",
    "np.std(a29)"
   ]
  },
  {
   "cell_type": "markdown",
   "id": "ec2f4c86-5f74-435d-92c2-5feeae29c41b",
   "metadata": {},
   "source": [
    "### Linear Algebra"
   ]
  },
  {
   "cell_type": "code",
   "execution_count": null,
   "id": "c8deba8b-a4b7-477c-8e8d-5a7fbe47d6a6",
   "metadata": {},
   "outputs": [],
   "source": [
    "m1 = np.arange(9).reshape(3, 3)\n",
    "m2 = np.arange(10, 19).reshape(3, 3)\n",
    "m1"
   ]
  },
  {
   "cell_type": "code",
   "execution_count": null,
   "id": "b40c25bc-b964-4473-bbc1-92e1daceb895",
   "metadata": {},
   "outputs": [],
   "source": [
    "# Matrix multiplication\n",
    "np.matmul(m1, m1)"
   ]
  },
  {
   "cell_type": "code",
   "execution_count": null,
   "id": "9f1c41c5-c603-4fa9-9eea-05e98fa9af92",
   "metadata": {},
   "outputs": [],
   "source": [
    "# Transpose of a matrix\n",
    "np.transpose(m1)"
   ]
  },
  {
   "cell_type": "code",
   "execution_count": null,
   "id": "7f48b76a-a574-4a38-b30a-1254f270988e",
   "metadata": {},
   "outputs": [],
   "source": [
    "# Dot Product\n",
    "np.dot(a29, b29)"
   ]
  },
  {
   "cell_type": "markdown",
   "id": "4f2446a1-b2a1-47e0-a1ef-76f9e7310bd0",
   "metadata": {},
   "source": [
    "### Random Number Generation\n",
    "Random number generation is fundamental for simulations, probabilistic algorithms, and Monte Carlo methods.\n",
    "\n",
    "#### np.random.randint()\n",
    " - Generates random integers between specified bounds."
   ]
  },
  {
   "cell_type": "code",
   "execution_count": null,
   "id": "c59c9fa8-4e2e-4d9d-9be3-637a1cacb6bc",
   "metadata": {},
   "outputs": [],
   "source": [
    "a30 = np.random.randint(1, 11, 10)\n",
    "a30"
   ]
  },
  {
   "cell_type": "markdown",
   "id": "4948c3e0-6678-4543-ac13-ab631f9e2767",
   "metadata": {},
   "source": [
    "#### np.random.permutation(a30)\n",
    "- Returns a new array with a randomly permuted array."
   ]
  },
  {
   "cell_type": "code",
   "execution_count": null,
   "id": "4c116906-9509-4b83-a07d-efd798c2b7fd",
   "metadata": {},
   "outputs": [],
   "source": [
    "np.random.permutation(a30)"
   ]
  }
 ],
 "metadata": {
  "kernelspec": {
   "display_name": "Python 3 (ipykernel)",
   "language": "python",
   "name": "python3"
  },
  "language_info": {
   "codemirror_mode": {
    "name": "ipython",
    "version": 3
   },
   "file_extension": ".py",
   "mimetype": "text/x-python",
   "name": "python",
   "nbconvert_exporter": "python",
   "pygments_lexer": "ipython3",
   "version": "3.10.12"
  }
 },
 "nbformat": 4,
 "nbformat_minor": 5
}
